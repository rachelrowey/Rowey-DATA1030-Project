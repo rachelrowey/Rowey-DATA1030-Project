{
 "cells": [
  {
   "cell_type": "markdown",
   "id": "5e617121-563f-4051-b3b0-8959c7a10617",
   "metadata": {},
   "source": [
    "# Exploring datasets"
   ]
  },
  {
   "cell_type": "code",
   "execution_count": null,
   "id": "326a5d80-9f49-45c8-aef8-93e7290b5ced",
   "metadata": {},
   "outputs": [],
   "source": [
    "#cervical cancer dataset\n",
    "\n"
   ]
  },
  {
   "cell_type": "code",
   "execution_count": null,
   "id": "bd994b22-40b7-4f77-aa61-af7d25bddfbf",
   "metadata": {},
   "outputs": [],
   "source": [
    "#breast cancer dataset\n",
    "\n"
   ]
  }
 ],
 "metadata": {
  "kernelspec": {
   "display_name": "Python 3 (ipykernel)",
   "language": "python",
   "name": "python3"
  },
  "language_info": {
   "codemirror_mode": {
    "name": "ipython",
    "version": 3
   },
   "file_extension": ".py",
   "mimetype": "text/x-python",
   "name": "python",
   "nbconvert_exporter": "python",
   "pygments_lexer": "ipython3",
   "version": "3.12.5"
  }
 },
 "nbformat": 4,
 "nbformat_minor": 5
}
